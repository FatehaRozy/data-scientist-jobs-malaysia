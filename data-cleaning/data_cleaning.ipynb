{
 "cells": [
  {
   "cell_type": "code",
   "execution_count": 1,
   "id": "cd0f4273-5820-40c6-88df-7fee753b0293",
   "metadata": {},
   "outputs": [],
   "source": [
    "import pandas as pd"
   ]
  },
  {
   "cell_type": "code",
   "execution_count": 2,
   "id": "d2bfc180-9bf9-4cd3-9299-3bca15a0e329",
   "metadata": {},
   "outputs": [
    {
     "data": {
      "text/plain": [
       "(254, 7)"
      ]
     },
     "execution_count": 2,
     "metadata": {},
     "output_type": "execute_result"
    }
   ],
   "source": [
    "job_df = pd.read_csv('joblist.csv')\n",
    "job_df.shape"
   ]
  },
  {
   "cell_type": "code",
   "execution_count": 4,
   "id": "c10e7d91-558d-47db-9e67-53273ebf1fd9",
   "metadata": {},
   "outputs": [
    {
     "data": {
      "text/plain": [
       "(17, 4)"
      ]
     },
     "execution_count": 4,
     "metadata": {},
     "output_type": "execute_result"
    }
   ],
   "source": [
    "# Counting number of times the same job is posted\n",
    "repost_df = job_df.groupby(by=['title', 'company', 'salary', 'summary']).size().reset_index(name='repost')\n",
    "repost_df = repost_df.drop(['salary'], axis=1).sort_values(by=['company', 'title'])\n",
    "repost_df.shape"
   ]
  },
  {
   "cell_type": "code",
   "execution_count": 5,
   "id": "de6e2646-de2b-41fd-99fb-5e58341b8d66",
   "metadata": {},
   "outputs": [],
   "source": [
    "# Removing duplicates (repost)\n",
    "job_df = job_df.sort_values(by='post_date')\n",
    "job_df = job_df.drop_duplicates(subset=['title', 'company', 'salary', 'rating', 'summary'], keep='first', inplace=False, ignore_index=True)\n",
    "job_df = job_df.sort_values(by=['company', 'title'])"
   ]
  },
  {
   "cell_type": "code",
   "execution_count": 6,
   "id": "ed246418-b74c-4a56-99b3-28bb0e09d25c",
   "metadata": {},
   "outputs": [],
   "source": [
    "# Salary cleanup\n",
    "job_df['disclosed_salary'] = job_df['salary'].apply(lambda x: 0 if 'undisclosed' in x.lower() else 1)\n",
    "job_df['salary'] = job_df['salary'].apply(lambda x: x.split('a')[0] if 'undisclosed' not in x.lower() else -1)\n",
    "job_df['salary'] = job_df['salary'].apply(lambda x: x.replace('RM','').replace(',','') if x!=-1 else x)\n",
    "\n",
    "job_df['min_salary'] = job_df['salary'].apply(lambda x: x.split(' - ')[0] if x!=-1 else 0)\n",
    "job_df['min_salary'] = pd.to_numeric(job_df['min_salary'])\n",
    "\n",
    "job_df['max_salary'] = job_df['salary'].apply(lambda x: x.split(' - ')[1] if x!=-1 and '-' in x else(0 if x==-1 else x))\n",
    "job_df['max_salary'] = pd.to_numeric(job_df['max_salary'])\n",
    "\n",
    "job_df['avg_salary'] = ((job_df.min_salary + job_df.max_salary)/2).astype(int)"
   ]
  },
  {
   "cell_type": "code",
   "execution_count": 7,
   "id": "666e6adf-cd5d-4806-b5c4-033c55fb355e",
   "metadata": {},
   "outputs": [],
   "source": [
    "# Rating\n",
    "job_df['rating'] = job_df['rating'].apply(lambda x: float(x) if x!='None' else -1)\n",
    "job_df['rated'] = job_df['rating'].apply(lambda x: 1 if x!=-1 else 0)"
   ]
  },
  {
   "cell_type": "code",
   "execution_count": 8,
   "id": "f632bf26-2b13-4623-a405-8c90eb5d3636",
   "metadata": {},
   "outputs": [],
   "source": [
    "# Job title length\n",
    "job_df['title_len'] = job_df['title'].apply(lambda x: len(x))"
   ]
  },
  {
   "cell_type": "code",
   "execution_count": 9,
   "id": "0f3aa569-1e04-456f-be9f-1b1d4be434f2",
   "metadata": {},
   "outputs": [],
   "source": [
    "# Recent Post Date\n",
    "job_df['post_date'] = job_df['post_date'].apply(lambda x: x.split('days')[0].replace('0+','1')).astype(int)"
   ]
  },
  {
   "cell_type": "code",
   "execution_count": 10,
   "id": "a3fbb02c-954d-4ac5-ab70-687e7178cf7f",
   "metadata": {},
   "outputs": [],
   "source": [
    "df = pd.merge(job_df, repost_df, how='left', on=['company', 'title', 'summary'])"
   ]
  },
  {
   "cell_type": "code",
   "execution_count": 11,
   "id": "44ec174a-2c46-4736-8210-075b020177c6",
   "metadata": {},
   "outputs": [],
   "source": [
    "df_out = df.drop(['Unnamed: 0'], axis=1)\n",
    "df_out.columns = df_out.columns.str.capitalize()\n",
    "df_out.rename(columns = {'Salary':'Salary_monthly', 'Post_date':'Days_since_posted',\n",
    "                        'Disclosed_salary':'Salary_disclosed',}, inplace = True)"
   ]
  },
  {
   "cell_type": "code",
   "execution_count": 12,
   "id": "e7c73f5e-86cf-4135-8120-7a2891f44bee",
   "metadata": {},
   "outputs": [],
   "source": [
    "# Save cleaned data to csv\n",
    "df_out.to_csv('ds_jobs_data_cleaned.csv', index=False)"
   ]
  },
  {
   "cell_type": "code",
   "execution_count": null,
   "id": "58ee1041-d052-4e2b-98a7-35795a05be40",
   "metadata": {},
   "outputs": [],
   "source": []
  },
  {
   "cell_type": "code",
   "execution_count": null,
   "id": "657cbf7b-57fa-4e4b-b8bd-c95595be5173",
   "metadata": {},
   "outputs": [],
   "source": []
  },
  {
   "cell_type": "code",
   "execution_count": null,
   "id": "9559dcfa-3781-4771-a996-319dfb6e8089",
   "metadata": {},
   "outputs": [],
   "source": []
  }
 ],
 "metadata": {
  "kernelspec": {
   "display_name": "Python 3",
   "language": "python",
   "name": "python3"
  },
  "language_info": {
   "codemirror_mode": {
    "name": "ipython",
    "version": 3
   },
   "file_extension": ".py",
   "mimetype": "text/x-python",
   "name": "python",
   "nbconvert_exporter": "python",
   "pygments_lexer": "ipython3",
   "version": "3.8.8"
  }
 },
 "nbformat": 4,
 "nbformat_minor": 5
}
