{
 "cells": [
  {
   "cell_type": "code",
   "execution_count": null,
   "id": "4fab3699-434f-45dc-8739-84c7082548bb",
   "metadata": {},
   "outputs": [],
   "source": [
    "!pip install beautifulsoup4"
   ]
  },
  {
   "cell_type": "code",
   "execution_count": null,
   "id": "466566fe-abac-4fd6-a5eb-751e2cca6b87",
   "metadata": {},
   "outputs": [],
   "source": [
    "!pip install lxml"
   ]
  },
  {
   "cell_type": "code",
   "execution_count": null,
   "id": "c17ea1d1-3344-4d8c-a3f4-29c6e4db89b0",
   "metadata": {},
   "outputs": [],
   "source": [
    "from bs4 import BeautifulSoup\n",
    "import requests\n",
    "import pandas as pd"
   ]
  },
  {
   "cell_type": "code",
   "execution_count": null,
   "id": "d0970936-8301-4577-9951-2a47159ea32e",
   "metadata": {},
   "outputs": [],
   "source": [
    "def extract(page):\n",
    "    # Google 'My User Agent', copy & paste it below\n",
    "    headers = {'User-Agent': 'Paste your User Agent here'}\n",
    "    \n",
    "    url = f'https://malaysia.indeed.com/jobs?q=data+scientist&l=Malaysia&start={page}'  \n",
    "\n",
    "    r = requests.get(url, headers)    \n",
    "    soup = BeautifulSoup(r.content, 'html.parser')\n",
    "    return soup\n",
    "\n",
    "def transform(soup):    \n",
    "    divs = soup.find_all('div', class_='job_seen_beacon')\n",
    "\n",
    "    for item in divs:\n",
    "        try:\n",
    "            job_name = item.find('span')['title']\n",
    "        except Exception as e:\n",
    "            continue\n",
    "        \n",
    "        company = item.find('span', class_='companyName').text\n",
    "        \n",
    "        try:\n",
    "            salary = item.find('div', class_='salary-snippet').span.text\n",
    "        except:\n",
    "            salary = 'Undisclosed'\n",
    "        try:\n",
    "            rating = item.find('span', class_='ratingNumber').text\n",
    "        except:\n",
    "            rating = 'None'\n",
    "            \n",
    "        \n",
    "        summary = item.find('div', {'class' : 'job-snippet'}).text.strip().replace('\\n','')\n",
    "        post_date = item.find('span', class_='date').text.replace('Posted','')\n",
    "               \n",
    "        job = {\n",
    "            'title' : job_name,\n",
    "            'company' : company,\n",
    "            'salary' : salary,\n",
    "            'rating' : rating,\n",
    "            'summary' : summary,  \n",
    "            'post_date' : post_date,\n",
    "        }\n",
    "        \n",
    "        joblist.append(job)    \n",
    "            \n",
    "    return\n",
    "\n",
    "joblist = []    \n",
    "\n",
    "# At the time of this project, only 24 pages of results available\n",
    "for i in range(0, 220, 10):\n",
    "    c = extract(0)\n",
    "    transform(c)\n",
    "\n",
    "df = pd.DataFrame(joblist)\n",
    "df.to_csv('joblist.csv')"
   ]
  },
  {
   "cell_type": "code",
   "execution_count": null,
   "id": "92edc9b2-e66d-4e55-b44e-9e12dd6562e7",
   "metadata": {},
   "outputs": [],
   "source": []
  }
 ],
 "metadata": {
  "kernelspec": {
   "display_name": "Python 3",
   "language": "python",
   "name": "python3"
  },
  "language_info": {
   "codemirror_mode": {
    "name": "ipython",
    "version": 3
   },
   "file_extension": ".py",
   "mimetype": "text/x-python",
   "name": "python",
   "nbconvert_exporter": "python",
   "pygments_lexer": "ipython3",
   "version": "3.8.8"
  }
 },
 "nbformat": 4,
 "nbformat_minor": 5
}
